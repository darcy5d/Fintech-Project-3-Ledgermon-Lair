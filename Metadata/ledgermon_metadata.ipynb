{
 "cells": [
  {
   "cell_type": "code",
   "execution_count": 3,
   "id": "3dcbc78f-d034-472c-a9d1-daacffefdd61",
   "metadata": {},
   "outputs": [
    {
     "data": {
      "text/plain": [
       "[{'name': 'Toprak',\n",
       "  'number': 1,\n",
       "  'type': ['Earth'],\n",
       "  'attributes': {'attack': 78, 'defense': 93, 'speed': 6}},\n",
       " {'name': 'KylmaStandart',\n",
       "  'number': 2,\n",
       "  'type': ['Frost', 'Basic'],\n",
       "  'attributes': {'attack': 59, 'defense': 18, 'speed': 85}},\n",
       " {'name': 'Pebble',\n",
       "  'number': 3,\n",
       "  'type': ['Stone'],\n",
       "  'attributes': {'attack': 94, 'defense': 75, 'speed': 89}},\n",
       " {'name': 'Haneul',\n",
       "  'number': 4,\n",
       "  'type': ['Sky'],\n",
       "  'attributes': {'attack': 34, 'defense': 61, 'speed': 38}},\n",
       " {'name': 'Rock',\n",
       "  'number': 5,\n",
       "  'type': ['Earth'],\n",
       "  'attributes': {'attack': 79, 'defense': 57, 'speed': 64}}]"
      ]
     },
     "execution_count": 3,
     "metadata": {},
     "output_type": "execute_result"
    }
   ],
   "source": [
    "# Mapping types to syllables for names\n",
    "type_to_syllables = {\n",
    "    \"Neutral\": [\"Zen\", \"Balance\", \"Calm\", \"Equi\", \"Medio\", \"Pacis\", \"Harmonia\", \"Stilla\", \"Ravn\", \"Tengri\"],\n",
    "    \"Basic\": [\"Norm\", \"Plain\", \"Simple\", \"Grund\", \"Alap\", \"Temel\", \"Radix\", \"Basal\", \"Osnova\", \"Standart\"],\n",
    "    \"Combat\": [\"Fight\", \"War\", \"Fist\", \"Strife\", \"Bata\", \"Hildr\", \"Krieg\", \"Savas\", \"Dovus\", \"Bellum\"],\n",
    "    \"Sky\": [\"Cloud\", \"Aero\", \"Wind\", \"Caelum\", \"Skyer\", \"Gokyuzu\", \"Haneul\", \"Aether\", \"Luft\", \"Asman\"],\n",
    "    \"Toxic\": [\"Poison\", \"Venom\", \"Tox\", \"Visha\", \"Gift\", \"Zehir\", \"Toksin\", \"Venenum\", \"Halalos\", \"Otrov\"],\n",
    "    \"Earth\": [\"Terra\", \"Geo\", \"Rock\", \"Mundus\", \"Zamin\", \"Erda\", \"Toprak\", \"Jord\", \"Chthon\", \"Yer\"],\n",
    "    \"Stone\": [\"Granite\", \"Boulder\", \"Pebble\", \"Saxum\", \"Steinn\", \"Tas\", \"Kaya\", \"Roca\", \"Gestein\", \"Harilik\"],\n",
    "    \"Insect\": [\"Bug\", \"Beetle\", \"Ant\", \"Insectum\", \"Bocek\", \"Kafer\", \"Qurt\", \"Saeskja\", \"Hasharot\", \"Ciyan\"],\n",
    "    \"Phantom\": [\"Ghost\", \"Specter\", \"Wraith\", \"Anima\", \"Hayalet\", \"Geist\", \"Draugr\", \"Phasma\", \"Ruach\", \"Hantu\"],\n",
    "    \"Metal\": [\"Steel\", \"Iron\", \"Alloy\", \"Ferrum\", \"Metallum\", \"Demir\", \"Stahl\", \"Jarn\", \"Metal\", \"Polat\"],\n",
    "    \"Flame\": [\"Blaze\", \"Inferno\", \"Fire\", \"Pyro\", \"Ignis\", \"Alev\", \"Brann\", \"Fiamma\", \"Yanar\", \"Tuli\"],\n",
    "    \"Aqua\": [\"Water\", \"Stream\", \"Wave\", \"Hydro\", \"Aqua\", \"Su\", \"Vatten\", \"Ondas\", \"Dalga\", \"Uzun\"],\n",
    "    \"Plant\": [\"Leaf\", \"Flora\", \"Root\", \"Phyto\", \"Herba\", \"Bitki\", \"Planta\", \"Taim\", \"Otu\", \"Plantae\"],\n",
    "    \"Thunder\": [\"Volt\", \"Storm\", \"Electro\", \"Fulgur\", \"Keraunos\", \"Gokgurultu\", \"Druma\", \"Elektrik\", \"Dord\", \"Rai\"],\n",
    "    \"Mystic\": [\"Myst\", \"Psyche\", \"Aura\", \"Arcanum\", \"Gizem\", \"Seidr\", \"Mysterium\", \"Ruh\", \"Magi\", \"Sihir\"],\n",
    "    \"Frost\": [\"Ice\", \"Snow\", \"Chill\", \"Cryo\", \"Frigus\", \"Buz\", \"Frost\", \"Kylma\", \"Don\", \"Yakh\"],\n",
    "    \"Wyrm\": [\"Dragon\", \"Serpent\", \"Drake\", \"Draco\", \"Ormr\", \"Ejder\", \"Wurm\", \"Yilan\", \"Lohe\", \"Drakon\"],\n",
    "    \"Shadow\": [\"Dark\", \"Night\", \"Eclipse\", \"Skotos\", \"Nox\", \"Karanlik\", \"Nacht\", \"Golge\", \"Tamsa\", \"Kolge\"],\n",
    "    \"Enchanted\": [\"Magic\", \"Fairy\", \"Spell\", \"Magica\", \"Alfr\", \"Buyu\", \"Zauber\", \"Sihirli\", \"Tover\", \"Sehr\"]\n",
    "}\n",
    "\n",
    "\n",
    "# Function to generate a single Ledgermon's metadata with type-inspired name\n",
    "def generate_type_inspired_ledgermon(number):\n",
    "    # Selecting type(s) for the Ledgermon\n",
    "    selected_types = random.sample(types, k=random.randint(1, 2))\n",
    "\n",
    "    # Generating a name based on the selected type(s)\n",
    "    name_parts = []\n",
    "    for t in selected_types:\n",
    "        name_parts.append(random.choice(type_to_syllables[t]))\n",
    "    ledgermon_name = \"\".join(name_parts)\n",
    "\n",
    "    # Assigning random attributes\n",
    "    attributes = {\n",
    "        \"attack\": random.randint(1, 100),\n",
    "        \"defense\": random.randint(1, 100),\n",
    "        \"speed\": random.randint(1, 100)\n",
    "    }\n",
    "\n",
    "    return {\n",
    "        \"name\": ledgermon_name,\n",
    "        \"number\": number,\n",
    "        \"type\": selected_types,\n",
    "        \"attributes\": attributes\n",
    "    }\n",
    "\n",
    "# Generate metadata for 500 Ledgermons\n",
    "type_inspired_ledgermon_metadata = [generate_type_inspired_ledgermon(i+1) for i in range(500)]\n",
    "\n",
    "# Displaying the first few entries as an example\n",
    "type_inspired_ledgermon_metadata[:5]  # Display the metadata for the first 5 Ledgermons\n"
   ]
  },
  {
   "cell_type": "code",
   "execution_count": null,
   "id": "9181d4f7-dd78-4638-9df0-b2085f717426",
   "metadata": {},
   "outputs": [],
   "source": []
  }
 ],
 "metadata": {
  "kernelspec": {
   "display_name": "Python 3 (ipykernel)",
   "language": "python",
   "name": "python3"
  },
  "language_info": {
   "codemirror_mode": {
    "name": "ipython",
    "version": 3
   },
   "file_extension": ".py",
   "mimetype": "text/x-python",
   "name": "python",
   "nbconvert_exporter": "python",
   "pygments_lexer": "ipython3",
   "version": "3.9.16"
  }
 },
 "nbformat": 4,
 "nbformat_minor": 5
}
